{
 "cells": [
  {
   "attachments": {},
   "cell_type": "markdown",
   "metadata": {},
   "source": [
    "# Problem 1 "
   ]
  },
  {
   "cell_type": "code",
   "execution_count": 58,
   "metadata": {},
   "outputs": [
    {
     "name": "stdout",
     "output_type": "stream",
     "text": [
      "[1 2 4 5 7]\n"
     ]
    }
   ],
   "source": [
    "# 1 - numpy kütüphanesini import edin\n",
    "import numpy as np\n",
    "# 2 - 5 elemanlı bir numpy array oluşturun\n",
    "x = np.array([5,7,4,1,2])\n",
    "# 3 - Oluşturduğunuz arrayi küçükten büyüğe sıralayın.\n",
    "x.sort()\n",
    "print(x)"
   ]
  },
  {
   "attachments": {},
   "cell_type": "markdown",
   "metadata": {},
   "source": [
    "# Problem 2"
   ]
  },
  {
   "cell_type": "code",
   "execution_count": 56,
   "metadata": {},
   "outputs": [
    {
     "name": "stdout",
     "output_type": "stream",
     "text": [
      "[10 15 30 45 60]\n",
      "[9 6 6 9]\n",
      "[50 55 60 65 70 75 80 85 90 95]\n",
      "[  0.  25.  50.  75. 100.]\n",
      "[20 24 28 25 27]\n",
      "[ 0.8559711   0.71881577  0.8595036   0.76434253 -0.77866159  0.1633792\n",
      " -0.67711205  0.08718478  0.21096707  0.00690732]\n",
      "[[24 27 37 45 34]\n",
      " [49 17 23 18 20]\n",
      " [18 15 20 42 49]]\n",
      "[167 127 144]\n",
      "[ 91  59  80 105 103]\n",
      "En büyük değer: 49\n",
      "En küçük değer: 15\n",
      "Ortalama: 29.2\n",
      "5\n",
      "[10 11 12]\n",
      "[19 18 17 16 15 14 13 12 11 10]\n",
      "[24 27 37 45 34]\n",
      "23\n",
      "[[24]\n",
      " [49]\n",
      " [18]]\n",
      "[[ 576  729 1369 2025 1156]\n",
      " [2401  289  529  324  400]\n",
      " [ 324  225  400 1764 2401]]\n",
      "[[ 16 -18  32  16 -37]\n",
      " [-49  22  39  29  -1]\n",
      " [ -7 -27   3  -7 -44]]\n",
      "[16 32 16 22]\n"
     ]
    }
   ],
   "source": [
    "# 1- (10,15,30,45,60) değerlerine sahip numpy dizisi oluşturunuz.\n",
    "a = np.array([10,15,30,45,60])\n",
    "print(a)\n",
    "# 2- (5-15) arasındaki sayılarla numpy dizisi oluşturunuz.\n",
    "import random\n",
    "b = np.random.randint(5,15,4)\n",
    "print(b)\n",
    "# 3- (50-100) arasında 5'er 5'er artarak numpy dizisi oluşturunuz.\n",
    "x = np.arange(50,100,5)\n",
    "print(x)\n",
    "# 4- 10 elemanlı sıfırlardan oluşan bir dizi oluşturunuz.\n",
    "np.zeros(10)\n",
    "\n",
    "# 5- 10 elemanlı birlerden oluşan bir dizi oluşturunuz.\n",
    "np.ones(10)\n",
    "\n",
    "# 6- (0-100) arasında eşit aralıklı 5 sayı üretin.\n",
    "y = np.linspace(0,100,5)\n",
    "print(y)\n",
    "# 7- (10-30) arasında rastgele 5 tane tamsayı üretin.\n",
    "z = np.random.randint(10,30,5)\n",
    "print(z)\n",
    "# 8- [-1 ile 1] arasında 10 adet sayı üretin.\n",
    "k = np.random.uniform(-1,1,10)\n",
    "print(k)\n",
    "# 9- (3x5) boyutlarında (10-50) arasında rastgele bir matris oluşturunuz.\n",
    "m = np.random.randint(10,50, size = (3,5))\n",
    "print(m)\n",
    "# 10- Üretilen matrisin satır ve sütun sayıları toplamlarını hesaplayınız ?\n",
    "print(m.sum(axis=1))\n",
    "print(m.sum(axis=0))\n",
    "# 11- Üretilen matrisin en büyük, en küçük ve ortalaması nedir ?\n",
    "print(f\"En büyük değer: {np.max(m)}\")\n",
    "print(f\"En küçük değer: {np.min(m)}\")\n",
    "print(f\"Ortalama: {np.mean(m)}\")\n",
    "# 12- Üretilen matrisin en büyük değerinin indeksi kaçtır ?\n",
    "print(np.argmax(m))\n",
    "\n",
    "# 13- (10-20) arasındaki sayıları içeren dizinin ilk 3 elemanını seçiniz.\n",
    "dizi = np.arange(10,20)\n",
    "print(dizi[:3])\n",
    "# 14- Üretilen dizinin elemanlarını tersten yazdırın.\n",
    "print(dizi[::-1])\n",
    "\n",
    "# 15- Üretilen matrisin ilk satırını seçiniz.\n",
    "print(m[0,:])\n",
    "\n",
    "# 16- Üretilen matrisin 2.satır 3.sütundaki elemanı hangisidir ?\n",
    "print(m[1,2])\n",
    "\n",
    "# 17- Üretilen matrisin tüm satırlardaki ilk elemanı seçiniz.\n",
    "print(m[0:3,0:1])\n",
    "\n",
    "# 18- Üretilen matrisin her bir elemanının karesini alınız.\n",
    "print(np.power(m,2))\n",
    "\n",
    "# 19- Üretilen matris elemanlarının hangisi pozitif çift sayıdır ? Aralığı (-50,+50) arasında yapınız.\n",
    "matris = np.random.randint(-50,50, size = (3,5))\n",
    "print(matris)\n",
    "print(matris[(matris > 0) & (matris % 2 == 0)])"
   ]
  }
 ],
 "metadata": {
  "kernelspec": {
   "display_name": "Python 3",
   "language": "python",
   "name": "python3"
  },
  "language_info": {
   "codemirror_mode": {
    "name": "ipython",
    "version": 3
   },
   "file_extension": ".py",
   "mimetype": "text/x-python",
   "name": "python",
   "nbconvert_exporter": "python",
   "pygments_lexer": "ipython3",
   "version": "3.12.3"
  },
  "orig_nbformat": 4,
  "vscode": {
   "interpreter": {
    "hash": "5026d2d6e7aaaaba093def813beadff083d8733e4a511af01735cbabd156995d"
   }
  }
 },
 "nbformat": 4,
 "nbformat_minor": 2
}
