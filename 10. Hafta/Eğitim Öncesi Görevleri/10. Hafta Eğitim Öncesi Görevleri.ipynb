{
 "cells": [
  {
   "attachments": {},
   "cell_type": "markdown",
   "metadata": {},
   "source": [
    "# Problem 1"
   ]
  },
  {
   "cell_type": "code",
   "execution_count": 15,
   "metadata": {},
   "outputs": [
    {
     "name": "stdout",
     "output_type": "stream",
     "text": [
      "(5,)\n",
      "[[1 2 3 4 5]]\n",
      "1\n"
     ]
    }
   ],
   "source": [
    "# 1 - numpy kütüphanesini import edin\n",
    "import numpy as np\n",
    "# 2 - 0 ile 10 arasında 5 sayıdan oluşan matris üretin\n",
    "x = np.array([1,2,3,4,5])\n",
    "# 3 - matris'in boyutunu öğrenin\n",
    "print(x.shape)\n",
    "# 4 - matris'i yeniden boyutlandırın\n",
    "multi = x.reshape(1,5)\n",
    "print(multi)\n",
    "# 5 - matris'in boyut sayısını öğrenin\n",
    "print(x.ndim)"
   ]
  },
  {
   "attachments": {},
   "cell_type": "markdown",
   "metadata": {},
   "source": [
    "# Problem 2"
   ]
  },
  {
   "cell_type": "code",
   "execution_count": 20,
   "metadata": {},
   "outputs": [
    {
     "name": "stdout",
     "output_type": "stream",
     "text": [
      "[array([1]), array([3, 5]), array([7, 9])]\n",
      "[1 3 5 7 9]\n"
     ]
    }
   ],
   "source": [
    "# 1 - 0 ile 10 arasında bulunan tek sayılardan oluşan matris üretin\n",
    "y = np.array([1,3,5,7,9])\n",
    "# 2 - Oluşturduğunuz matrisi parçalayın\n",
    "print(np.split(y,[1,3]))\n",
    "# 3 - Parçalanmış matrisleri birleştirin\n",
    "print(np.concatenate([y]))"
   ]
  },
  {
   "attachments": {},
   "cell_type": "markdown",
   "metadata": {},
   "source": [
    "# Problem 3"
   ]
  },
  {
   "cell_type": "code",
   "execution_count": 24,
   "metadata": {},
   "outputs": [
    {
     "name": "stdout",
     "output_type": "stream",
     "text": [
      "Matrisin boyut sayısı: 2\n",
      "Matrisin şekli: (2, 5)\n",
      "Matrisin boyutu: 10\n",
      "Matrisin veri tipi: int64\n"
     ]
    }
   ],
   "source": [
    "# 1 - 5 ile 100 arasında ikişer ikişer atlayarak rastgele 10 sayıdan oluşan matris üretin\n",
    "a = np.arange(5, 101, 2)\n",
    "b = np.random.choice(a, 10, replace=False)\n",
    "matrix = b.reshape(2, 5)\n",
    "# 2 - matris'in özelliklerini inceleyin\n",
    "\n",
    "print(f\"Matrisin boyut sayısı: {matrix.ndim}\")\n",
    "print(f\"Matrisin şekli: {matrix.shape}\")\n",
    "print(f\"Matrisin boyutu: {matrix.size}\")\n",
    "print(f\"Matrisin veri tipi: {matrix.dtype}\")"
   ]
  }
 ],
 "metadata": {
  "kernelspec": {
   "display_name": "Python 3",
   "language": "python",
   "name": "python3"
  },
  "language_info": {
   "codemirror_mode": {
    "name": "ipython",
    "version": 3
   },
   "file_extension": ".py",
   "mimetype": "text/x-python",
   "name": "python",
   "nbconvert_exporter": "python",
   "pygments_lexer": "ipython3",
   "version": "3.12.3"
  },
  "orig_nbformat": 4,
  "vscode": {
   "interpreter": {
    "hash": "5026d2d6e7aaaaba093def813beadff083d8733e4a511af01735cbabd156995d"
   }
  }
 },
 "nbformat": 4,
 "nbformat_minor": 2
}
