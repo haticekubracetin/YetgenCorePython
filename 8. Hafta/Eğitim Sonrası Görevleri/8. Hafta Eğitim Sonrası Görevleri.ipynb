{
 "cells": [
  {
   "attachments": {},
   "cell_type": "markdown",
   "metadata": {},
   "source": [
    "# Problem 1\n",
    "\n",
    "Şimdi beraber kullanıcılardan aldığımız verileri işleyerek, onlara hem çıktı verecek, hem de aldığımız ve hesapladığımız verileri ileride kullanabilmek adına kaydedeceğiz.\n",
    "\n",
    "\n",
    " **Bu bir veri giriş platformu olacak**\n",
    "\n",
    "\n",
    " * kullanıcıya kaç giriş yapacağını soracağız\n",
    "* kullanıcıdan isim-soyisim, yaş, boy, kilo bilgilerini alarak VKİ hesaplayacağız\n",
    "* ardından bunları sınıflara göre kaydedeceğiz bir dosyaya kaydedeceğiz\n",
    "\n",
    "\n",
    "Sınıflar ise şu şekilde: \n",
    "* 18, 5 kg/m.'nin altında olanlar: Zayıf\n",
    "* 18.5 – 24, 9 kg/m. arasında olanlar: Normal kilolu\n",
    "* 25 – 29, 9 kg/m. arasında olanlar: Fazla kilolu\n",
    "* 30 – 39, 9 kg/m. arasında olanlar: Obez\n",
    "* 40 kg/m.'nin üzerinde olanlar: İleri derecede obez (morbid obez), olarak görülür."
   ]
  },
  {
   "cell_type": "code",
   "execution_count": 1,
   "metadata": {},
   "outputs": [],
   "source": [
    "giris = int(input(\"Kaç giriş yapacaksınız? :\"))\n",
    "isim = input(\"İsim-soyisim :\")\n",
    "yas = int(input(\"Yaş :\"))\n",
    "boy = float(input(\"Boy :\"))\n",
    "kilo = float(input(\"Kilo :\"))\n",
    "vki = kilo/ ((boy/100)**2)\n",
    "\n",
    "def siniflandirma(vki):\n",
    "    global giris\n",
    "    while giris > 0:\n",
    "        if vki < 18.5:\n",
    "            return \"Zayıf\"\n",
    "        elif vki < 24.9:\n",
    "            return \"Normal Kilolu\"\n",
    "        elif vki < 29.9:\n",
    "            return \"Fazla Kilolu\"\n",
    "        elif vki < 39.9:\n",
    "            return \"Obez\"\n",
    "        else:\n",
    "            return \"İleri derecede (morbid) obez\"\n",
    "    giris =- 1\n",
    "\n",
    "sinif = siniflandirma(vki)\n",
    "\n",
    "with open(\"vki.txt\", \"a\", encoding=\"utf-8\") as file:\n",
    "    file.write(f\"{isim}, {yas} yaşında, {boy}cm, {kilo}kg, vücut kitle endeksi:{vki}, {sinif} \\n\")\n",
    "\n"
   ]
  },
  {
   "attachments": {},
   "cell_type": "markdown",
   "metadata": {},
   "source": [
    "# Problem 2\n",
    "**YetBar - Smoothie Bank**\n",
    "---\n",
    "YetBar spor salonunun girişinde bulunan, insansız bir sağlıklı içecek otomatıdır. Kullanıcı çeşitli girdiler smoothie içeceğine koyacağı ürünleri belirleyebilir, fiyat hesaplaması yaptırabilir ya da sadece menüyü görüntüleyebilir.\n",
    "\n",
    "**Projenin Amacı:**\n",
    "\n",
    "*   Birbirini etkileyen ve bir kod içerisinde birden fazla defa başvurulacak fonksiyonların oluşturulup, \"fonksiyonel\" proglamlamak.\n",
    "*   Büyük programları yazarken, yazılımcı olarak yapabileceğimiz hatalardan kaçınmak için kontrol yöntemleri geliştirmek.\n",
    "*   Kullanıcı inputlarını ve yaptığımız hesapları, raporlamak/loglamak amacıyla kaydetmek.\n",
    "\n",
    "**Programdan Beklenen Çıktılar**\n",
    "* Program kullanıcıya temelde 2 farklı işlem yapma imkanı sağlar.\n",
    "> 1. Menüyü görüntüleme\n",
    "> 3. Satın alma\n",
    "* Satın alınan her içecek tarih, fiyat bilgisi ile kaydedilmeli ve her zaman ulaşılabilir olmalıdır.\n",
    "\n",
    "\n"
   ]
  },
  {
   "cell_type": "code",
   "execution_count": null,
   "metadata": {},
   "outputs": [],
   "source": [
    "def menu():\n",
    "    menuList = {\"Çilekli Smoothie\": \"10tl\", \"Ananaslı Smoothie\":\"20tl\", \"Karpuzlu Smoothie\":\"15tl\"}\n",
    "    return menuList\n",
    "\n",
    "def icerikGir():\n",
    "    icerik = input(\"Smoothie içine ne koymak istersiniz?\")\n",
    "    icerikList = {\"süt\":\"3tl\", \"fıstık ezmesi\":\"5tl\", \"granola\":\"7tl\"}\n",
    "    try:\n",
    "        return icerik\n",
    "    except icerik not in icerikList:\n",
    "        print(\"Lütfen içerik listesinden bir içerik giriniz.\")\n",
    "\n",
    "def fiyatHesapla():\n",
    "    x = input(\"Hangi smoothie'yi satın almak istersiniz :\")\n",
    "    toplam = x+icerik\n",
    "\n",
    "class SatınAlınanlar(self, urun, tarih, fiyat,)\n"
   ]
  }
 ],
 "metadata": {
  "kernelspec": {
   "display_name": "Python 3",
   "language": "python",
   "name": "python3"
  },
  "language_info": {
   "codemirror_mode": {
    "name": "ipython",
    "version": 3
   },
   "file_extension": ".py",
   "mimetype": "text/x-python",
   "name": "python",
   "nbconvert_exporter": "python",
   "pygments_lexer": "ipython3",
   "version": "3.12.3"
  },
  "orig_nbformat": 4,
  "vscode": {
   "interpreter": {
    "hash": "5026d2d6e7aaaaba093def813beadff083d8733e4a511af01735cbabd156995d"
   }
  }
 },
 "nbformat": 4,
 "nbformat_minor": 2
}
